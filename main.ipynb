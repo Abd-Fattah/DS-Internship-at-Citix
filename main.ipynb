{
 "cells": [
  {
   "cell_type": "code",
   "execution_count": 1,
   "id": "0fcc44c0-7975-46a6-8d53-aefe1020413f",
   "metadata": {
    "ExecuteTime": {
     "end_time": "2023-12-04T17:38:12.809411Z",
     "start_time": "2023-12-04T17:38:12.247887Z"
    }
   },
   "outputs": [],
   "source": [
    "import pandas as pd\n",
    "from openai import OpenAI\n",
    "import openai\n",
    "import os"
   ]
  },
  {
   "cell_type": "code",
   "execution_count": 2,
   "id": "ce2cc58a-0042-4591-a474-964dbb27e6fd",
   "metadata": {
    "ExecuteTime": {
     "end_time": "2023-12-04T17:38:12.834438Z",
     "start_time": "2023-12-04T17:38:12.808949Z"
    }
   },
   "outputs": [],
   "source": [
    "dataset_path = 'Housing.csv'\n",
    "client = OpenAI()"
   ]
  },
  {
   "cell_type": "code",
   "execution_count": 3,
   "id": "aace9b5f-1f21-465e-8fae-2163c1ce17fd",
   "metadata": {
    "ExecuteTime": {
     "end_time": "2023-12-04T17:38:12.853694Z",
     "start_time": "2023-12-04T17:38:12.835806Z"
    }
   },
   "outputs": [],
   "source": [
    "# Initialize the dataframe through the dataset.\n",
    "\n",
    "df = pd.read_csv(dataset_path)\n",
    "\n",
    "houses = []\n",
    "\n",
    "# Convert the whole dataframe into array of dictionaries. Where each record is the dictionary. \n",
    "\n",
    "houses = df.to_dict(orient='records')"
   ]
  },
  {
   "cell_type": "code",
   "execution_count": 4,
   "id": "e210f490-c975-46ee-8ad2-b3db8916b455",
   "metadata": {
    "ExecuteTime": {
     "end_time": "2023-12-04T17:38:12.854240Z",
     "start_time": "2023-12-04T17:38:12.850390Z"
    }
   },
   "outputs": [],
   "source": [
    "# Dividing records into categories that will be used further for prompt construction.\n",
    "\n",
    "affordable_houses = [record for record in houses if 0 <= record.get(\"price\", 0) <= 2000000]\n",
    "moderate_houses = [record for record in houses if 2000000 <= record.get(\"price\", 0) <= 4000000]\n",
    "aboveAverage_houses = [record for record in houses if 4000000 <= record.get(\"price\", 0) <= 6000000]\n",
    "highEnd_houses = [record for record in houses if 6000000 <= record.get(\"price\", 0) <= 8000000]\n",
    "luxury_houses = [record for record in houses if 8000000 <= record.get(\"price\", 0) <= 10000000]\n",
    "premiumLuxury_houses = [record for record in houses if 10000000 <= record.get(\"price\", 0) <= 12000000]"
   ]
  },
  {
   "cell_type": "code",
   "execution_count": 40,
   "id": "f35e0877-5a7b-40a2-88fb-3b2f1a1015c1",
   "metadata": {
    "ExecuteTime": {
     "end_time": "2023-12-04T17:50:42.196413Z",
     "start_time": "2023-12-04T17:50:42.189757Z"
    }
   },
   "outputs": [],
   "source": [
    "# houses_for_post = [] # Array of houses that will be used to generate posts.\n",
    "# \n",
    "# # Applying filtering with specific feature.\n",
    "# for record in affordable_houses:\n",
    "#     if record['mainroad'] == 'yes' and record['area'] >= 3000 and record['bedrooms'] >= 3:\n",
    "#         if (record['bedrooms'] >= 3):\n",
    "#             filtered_record = {'affordable_houses': record}\n",
    "#             houses_for_post.append(filtered_record)\n",
    "# \n",
    "# # Applying filtering with specific feature.\n",
    "# for record in moderate_houses:\n",
    "#     if record['mainroad'] == 'yes' and record['area'] >= 3000 and record['bedrooms'] >= 3:\n",
    "#         if record['basement'] == 'yes' and record['airconditioning'] == 'yes' and record['guestroom'] == 'yes':\n",
    "#             filtered_record = {'moderate_houses': record}\n",
    "#             houses_for_post.append(filtered_record)\n",
    "# \n",
    "# # Applying filtering with specific feature.\n",
    "# for record in aboveAverage_houses:\n",
    "#     if record['mainroad'] == 'yes' and record['area'] >= 3000 and record['bedrooms'] >= 3:\n",
    "#         if record['basement'] == 'yes' and record['airconditioning'] == 'yes' and record['guestroom'] == 'yes':\n",
    "#             if record['furnishingstatus'] == 'furnished' and record['parking'] >= 1 and record['prefarea'] == 'yes':\n",
    "#                 filtered_record = {'aboveAverage_houses': record}\n",
    "#                 houses_for_post.append(filtered_record)\n",
    "# \n",
    "# # Applying filtering with specific feature.\n",
    "# for record in highEnd_houses:\n",
    "#     if record['mainroad'] == 'yes' and record['area'] >= 3000 and record['bedrooms'] >= 3:\n",
    "#         if record['basement'] == 'yes' and record['airconditioning'] == 'yes' and record['guestroom'] == 'yes':\n",
    "#             if record['furnishingstatus'] == 'furnished' and record['parking'] >= 1 and record['prefarea'] == 'yes':\n",
    "#                 filtered_record = {'highEnd_houses': record}\n",
    "#                 houses_for_post.append(filtered_record)\n",
    "# \n",
    "# # Applying filtering with specific feature.\n",
    "# for record in luxury_houses:\n",
    "#     if record['mainroad'] == 'yes' and record['area'] >= 3000 and record['bedrooms'] >= 3:\n",
    "#         if record['basement'] == 'yes' and record['airconditioning'] == 'yes' and record['guestroom'] == 'yes':\n",
    "#             if record['furnishingstatus'] == 'furnished' and record['parking'] >= 1 and record['prefarea'] == 'yes':\n",
    "#                 filtered_record = {'luxury_houses': record}\n",
    "#                 houses_for_post.append(filtered_record)\n",
    "# \n",
    "# # Applying filtering with specific feature.\n",
    "# for record in premiumLuxury_houses:\n",
    "#     if record['mainroad'] == 'yes' and record['area'] >= 3000 and record['bedrooms'] >= 3:\n",
    "#         if record['basement'] == 'yes' and record['airconditioning'] == 'yes' and record['guestroom'] == 'yes':\n",
    "#             if record['furnishingstatus'] == 'furnished' and record['parking'] >= 1 and record['prefarea'] == 'yes':\n",
    "#                 filtered_record = {'premiumLuxury_houses': record}\n",
    "#                 houses_for_post.append(filtered_record)\n",
    "\n",
    "# Instead of all this terrible code above, just replaced with one function\n",
    "\n",
    "def filter_houses(record):\n",
    "    return (\n",
    "            record['mainroad'] == 'yes' and\n",
    "            record['area'] >= 3000 and\n",
    "            record['bedrooms'] >= 3 and\n",
    "            record['basement'] == 'yes' and\n",
    "            record['airconditioning'] == 'yes' and\n",
    "            record['guestroom'] == 'yes' and\n",
    "            record['furnishingstatus'] == 'furnished' or\n",
    "            record['furnishingstatus'] == 'semifurnished' and\n",
    "            record['parking'] >= 1 \n",
    "    )\n",
    "\n",
    "categories = ['affordable', 'moderate', 'aboveAverage', 'highEnd', 'luxury', 'premiumLuxury']\n",
    "\n",
    "houses_for_post = []\n",
    "\n",
    "for category in categories:\n",
    "    category_houses = []\n",
    "    for record in globals()[f\"{category}_houses\"]:\n",
    "        if filter_houses(record):\n",
    "            filtered_record = {f'{category}_houses': record}\n",
    "            category_houses.append(filtered_record)\n",
    "    houses_for_post.extend(category_houses)"
   ]
  },
  {
   "cell_type": "code",
   "execution_count": 27,
   "id": "582d95e2-832c-4dac-bc31-0bb39affa0e1",
   "metadata": {
    "ExecuteTime": {
     "end_time": "2023-12-04T17:47:01.890192Z",
     "start_time": "2023-12-04T17:47:01.886137Z"
    }
   },
   "outputs": [],
   "source": [
    "# Again dividing the data about filtered houses by specific features to the variable data context.\n",
    "# affordable_houses_data = houses_for_post[0].get('affordable_houses')\n",
    "# moderate_houses_data = houses_for_post[0].get('moderate_houses')\n",
    "# \n",
    "# aboveAverage_houses_data1 = houses_for_post[1].get('aboveAverage_houses')\n",
    "# aboveAverage_houses_data2 = houses_for_post[2].get('aboveAverage_houses')\n",
    "# aboveAverage_houses_data3 = houses_for_post[3].get('aboveAverage_houses')\n",
    "# aboveAverage_houses_data4 = houses_for_post[4].get('aboveAverage_houses')\n",
    "# \n",
    "# highEnd_houses_data = houses_for_post[5].get('highEnd_houses')\n",
    "# \n",
    "# luxury_houses_data1 = houses_for_post[6].get('luxury_houses')\n",
    "# luxury_houses_data2 = houses_for_post[7].get('luxury_houses')\n",
    "# luxury_houses_data3 = houses_for_post[8].get('luxury_houses')\n",
    "# luxury_houses_data4 = houses_for_post[9].get('luxury_houses')\n",
    "# luxury_houses_data5 = houses_for_post[10].get('luxury_houses')\n",
    "# premiumLuxury_houses_data = houses_for_post[11].get('luxury_houses')\n",
    "\n",
    "\n",
    "                                    \n",
    "\n",
    "\n",
    "\n",
    "#Prompts that used in generating posts.\n",
    "\n",
    "\n",
    "# prompt_moderate_houses = f\"Your mission is to make a positive and quote-provoking post, describing each data point about house. Moreover, you need enhance your post with unique approach in marketing or selling. Here are the data:\\n{moderate_houses_data}\\nGenerate a response:\"\n",
    "# prompt_aboveAverage_houses = f\"Your mission is to make a positive and quote-provoking post, describing each data point about house. Moreover, you need enhance your post with unique approach in marketing or selling. Here are the data:\\n{aboveAverage_houses_data}\\nGenerate a response:\"\n",
    "# prompt_highEnd_houses = f\"Your mission is to make a positive and quote-provoking post, describing each data point about house. Moreover, you need enhance your post with unique approach in marketing or selling. Here are the data:\\n{highEnd_houses_data}\\nGenerate a response:\"\n",
    "# prompt_luxury_houses1 = f\"Your mission is to make a positive and quote-provoking post, describing each data point about house. Moreover, you need enhance your post with unique approach in marketing or selling. Here are the data:\\n{luxury_houses_data1}\\nGenerate a response:\"\n",
    "# prompt_luxury_houses2 = f\"Your mission is to make a positive and quote-provoking post, describing each data point about house. Moreover, you need enhance your post with unique approach in marketing or selling. Here are the data:\\n{luxury_houses_data2}\\nGenerate a response:\"\n",
    "\n",
    "# This is how I previously initialized prompt data"
   ]
  },
  {
   "cell_type": "code",
   "execution_count": 46,
   "id": "46e2ab5b-d865-4512-8501-0f4fc9a8eddc",
   "metadata": {
    "ExecuteTime": {
     "end_time": "2023-12-04T17:57:37.720070Z",
     "start_time": "2023-12-04T17:57:26.003922Z"
    }
   },
   "outputs": [
    {
     "ename": "AuthenticationError",
     "evalue": "Error code: 401 - {'error': {'message': 'Incorrect API key provided: sk-TRsdN***************************************lbPZ. You can find your API key at https://platform.openai.com/account/api-keys.', 'type': 'invalid_request_error', 'param': None, 'code': 'invalid_api_key'}}",
     "output_type": "error",
     "traceback": [
      "\u001B[0;31m---------------------------------------------------------------------------\u001B[0m",
      "\u001B[0;31mAuthenticationError\u001B[0m                       Traceback (most recent call last)",
      "Cell \u001B[0;32mIn[46], line 5\u001B[0m\n\u001B[1;32m      2\u001B[0m generated_posts \u001B[38;5;241m=\u001B[39m []\n\u001B[1;32m      4\u001B[0m \u001B[38;5;28;01mfor\u001B[39;00m record \u001B[38;5;129;01min\u001B[39;00m houses_for_post:\n\u001B[0;32m----> 5\u001B[0m     completion \u001B[38;5;241m=\u001B[39m \u001B[43mclient\u001B[49m\u001B[38;5;241;43m.\u001B[39;49m\u001B[43mchat\u001B[49m\u001B[38;5;241;43m.\u001B[39;49m\u001B[43mcompletions\u001B[49m\u001B[38;5;241;43m.\u001B[39;49m\u001B[43mcreate\u001B[49m\u001B[43m(\u001B[49m\n\u001B[1;32m      6\u001B[0m \u001B[43m        \u001B[49m\u001B[43mmodel\u001B[49m\u001B[38;5;241;43m=\u001B[39;49m\u001B[38;5;124;43m\"\u001B[39;49m\u001B[38;5;124;43mgpt-3.5-turbo\u001B[39;49m\u001B[38;5;124;43m\"\u001B[39;49m\u001B[43m,\u001B[49m\n\u001B[1;32m      7\u001B[0m \u001B[43m        \u001B[49m\u001B[43mmessages\u001B[49m\u001B[38;5;241;43m=\u001B[39;49m\u001B[43m[\u001B[49m\n\u001B[1;32m      8\u001B[0m \u001B[43m            \u001B[49m\u001B[43m{\u001B[49m\u001B[38;5;124;43m\"\u001B[39;49m\u001B[38;5;124;43mrole\u001B[39;49m\u001B[38;5;124;43m\"\u001B[39;49m\u001B[43m:\u001B[49m\u001B[43m \u001B[49m\u001B[38;5;124;43m\"\u001B[39;49m\u001B[38;5;124;43msystem\u001B[39;49m\u001B[38;5;124;43m\"\u001B[39;49m\u001B[43m,\u001B[49m\u001B[43m \u001B[49m\u001B[38;5;124;43m\"\u001B[39;49m\u001B[38;5;124;43mcontent\u001B[39;49m\u001B[38;5;124;43m\"\u001B[39;49m\u001B[43m:\u001B[49m\u001B[43m \u001B[49m\u001B[38;5;124;43m\"\u001B[39;49m\u001B[38;5;124;43mYou are the real estate agent who manage own instagram account for promoting houses to acquiring.\u001B[39;49m\u001B[38;5;124;43m\"\u001B[39;49m\u001B[43m}\u001B[49m\u001B[43m,\u001B[49m\n\u001B[1;32m      9\u001B[0m \u001B[43m            \u001B[49m\u001B[43m{\u001B[49m\u001B[38;5;124;43m\"\u001B[39;49m\u001B[38;5;124;43mrole\u001B[39;49m\u001B[38;5;124;43m\"\u001B[39;49m\u001B[43m:\u001B[49m\u001B[43m \u001B[49m\u001B[38;5;124;43m\"\u001B[39;49m\u001B[38;5;124;43muser\u001B[39;49m\u001B[38;5;124;43m\"\u001B[39;49m\u001B[43m,\u001B[49m\u001B[43m \u001B[49m\u001B[38;5;124;43m\"\u001B[39;49m\u001B[38;5;124;43mcontent\u001B[39;49m\u001B[38;5;124;43m\"\u001B[39;49m\u001B[43m:\u001B[49m\u001B[43m \u001B[49m\u001B[38;5;124;43mf\u001B[39;49m\u001B[38;5;124;43m\"\u001B[39;49m\u001B[38;5;124;43mYour mission is to make a positive and quote-provoking post, describing each data point about house. Moreover, you need enhance your post with unique approach in marketing or selling. Here are the data:\u001B[39;49m\u001B[38;5;130;43;01m\\n\u001B[39;49;00m\u001B[38;5;132;43;01m{\u001B[39;49;00m\u001B[43mrecord\u001B[49m\u001B[38;5;132;43;01m}\u001B[39;49;00m\u001B[38;5;130;43;01m\\n\u001B[39;49;00m\u001B[38;5;124;43mGenerate a response:\u001B[39;49m\u001B[38;5;124;43m\"\u001B[39;49m\u001B[43m}\u001B[49m\n\u001B[1;32m     10\u001B[0m \u001B[43m        \u001B[49m\u001B[43m]\u001B[49m\n\u001B[1;32m     11\u001B[0m \u001B[43m    \u001B[49m\u001B[43m)\u001B[49m\n\u001B[1;32m     12\u001B[0m     generated_posts\u001B[38;5;241m.\u001B[39mappend(completion\u001B[38;5;241m.\u001B[39mchoices[\u001B[38;5;241m0\u001B[39m]\u001B[38;5;241m.\u001B[39mmessage\u001B[38;5;241m.\u001B[39mcontent)\n",
      "File \u001B[0;32m~/opt/miniconda3/envs/env_sparklab/lib/python3.10/site-packages/openai/_utils/_utils.py:301\u001B[0m, in \u001B[0;36mrequired_args.<locals>.inner.<locals>.wrapper\u001B[0;34m(*args, **kwargs)\u001B[0m\n\u001B[1;32m    299\u001B[0m             msg \u001B[38;5;241m=\u001B[39m \u001B[38;5;124mf\u001B[39m\u001B[38;5;124m\"\u001B[39m\u001B[38;5;124mMissing required argument: \u001B[39m\u001B[38;5;132;01m{\u001B[39;00mquote(missing[\u001B[38;5;241m0\u001B[39m])\u001B[38;5;132;01m}\u001B[39;00m\u001B[38;5;124m\"\u001B[39m\n\u001B[1;32m    300\u001B[0m     \u001B[38;5;28;01mraise\u001B[39;00m \u001B[38;5;167;01mTypeError\u001B[39;00m(msg)\n\u001B[0;32m--> 301\u001B[0m \u001B[38;5;28;01mreturn\u001B[39;00m \u001B[43mfunc\u001B[49m\u001B[43m(\u001B[49m\u001B[38;5;241;43m*\u001B[39;49m\u001B[43margs\u001B[49m\u001B[43m,\u001B[49m\u001B[43m \u001B[49m\u001B[38;5;241;43m*\u001B[39;49m\u001B[38;5;241;43m*\u001B[39;49m\u001B[43mkwargs\u001B[49m\u001B[43m)\u001B[49m\n",
      "File \u001B[0;32m~/opt/miniconda3/envs/env_sparklab/lib/python3.10/site-packages/openai/resources/chat/completions.py:598\u001B[0m, in \u001B[0;36mCompletions.create\u001B[0;34m(self, messages, model, frequency_penalty, function_call, functions, logit_bias, max_tokens, n, presence_penalty, response_format, seed, stop, stream, temperature, tool_choice, tools, top_p, user, extra_headers, extra_query, extra_body, timeout)\u001B[0m\n\u001B[1;32m    551\u001B[0m \u001B[38;5;129m@required_args\u001B[39m([\u001B[38;5;124m\"\u001B[39m\u001B[38;5;124mmessages\u001B[39m\u001B[38;5;124m\"\u001B[39m, \u001B[38;5;124m\"\u001B[39m\u001B[38;5;124mmodel\u001B[39m\u001B[38;5;124m\"\u001B[39m], [\u001B[38;5;124m\"\u001B[39m\u001B[38;5;124mmessages\u001B[39m\u001B[38;5;124m\"\u001B[39m, \u001B[38;5;124m\"\u001B[39m\u001B[38;5;124mmodel\u001B[39m\u001B[38;5;124m\"\u001B[39m, \u001B[38;5;124m\"\u001B[39m\u001B[38;5;124mstream\u001B[39m\u001B[38;5;124m\"\u001B[39m])\n\u001B[1;32m    552\u001B[0m \u001B[38;5;28;01mdef\u001B[39;00m \u001B[38;5;21mcreate\u001B[39m(\n\u001B[1;32m    553\u001B[0m     \u001B[38;5;28mself\u001B[39m,\n\u001B[0;32m   (...)\u001B[0m\n\u001B[1;32m    596\u001B[0m     timeout: \u001B[38;5;28mfloat\u001B[39m \u001B[38;5;241m|\u001B[39m httpx\u001B[38;5;241m.\u001B[39mTimeout \u001B[38;5;241m|\u001B[39m \u001B[38;5;28;01mNone\u001B[39;00m \u001B[38;5;241m|\u001B[39m NotGiven \u001B[38;5;241m=\u001B[39m NOT_GIVEN,\n\u001B[1;32m    597\u001B[0m ) \u001B[38;5;241m-\u001B[39m\u001B[38;5;241m>\u001B[39m ChatCompletion \u001B[38;5;241m|\u001B[39m Stream[ChatCompletionChunk]:\n\u001B[0;32m--> 598\u001B[0m     \u001B[38;5;28;01mreturn\u001B[39;00m \u001B[38;5;28;43mself\u001B[39;49m\u001B[38;5;241;43m.\u001B[39;49m\u001B[43m_post\u001B[49m\u001B[43m(\u001B[49m\n\u001B[1;32m    599\u001B[0m \u001B[43m        \u001B[49m\u001B[38;5;124;43m\"\u001B[39;49m\u001B[38;5;124;43m/chat/completions\u001B[39;49m\u001B[38;5;124;43m\"\u001B[39;49m\u001B[43m,\u001B[49m\n\u001B[1;32m    600\u001B[0m \u001B[43m        \u001B[49m\u001B[43mbody\u001B[49m\u001B[38;5;241;43m=\u001B[39;49m\u001B[43mmaybe_transform\u001B[49m\u001B[43m(\u001B[49m\n\u001B[1;32m    601\u001B[0m \u001B[43m            \u001B[49m\u001B[43m{\u001B[49m\n\u001B[1;32m    602\u001B[0m \u001B[43m                \u001B[49m\u001B[38;5;124;43m\"\u001B[39;49m\u001B[38;5;124;43mmessages\u001B[39;49m\u001B[38;5;124;43m\"\u001B[39;49m\u001B[43m:\u001B[49m\u001B[43m \u001B[49m\u001B[43mmessages\u001B[49m\u001B[43m,\u001B[49m\n\u001B[1;32m    603\u001B[0m \u001B[43m                \u001B[49m\u001B[38;5;124;43m\"\u001B[39;49m\u001B[38;5;124;43mmodel\u001B[39;49m\u001B[38;5;124;43m\"\u001B[39;49m\u001B[43m:\u001B[49m\u001B[43m \u001B[49m\u001B[43mmodel\u001B[49m\u001B[43m,\u001B[49m\n\u001B[1;32m    604\u001B[0m \u001B[43m                \u001B[49m\u001B[38;5;124;43m\"\u001B[39;49m\u001B[38;5;124;43mfrequency_penalty\u001B[39;49m\u001B[38;5;124;43m\"\u001B[39;49m\u001B[43m:\u001B[49m\u001B[43m \u001B[49m\u001B[43mfrequency_penalty\u001B[49m\u001B[43m,\u001B[49m\n\u001B[1;32m    605\u001B[0m \u001B[43m                \u001B[49m\u001B[38;5;124;43m\"\u001B[39;49m\u001B[38;5;124;43mfunction_call\u001B[39;49m\u001B[38;5;124;43m\"\u001B[39;49m\u001B[43m:\u001B[49m\u001B[43m \u001B[49m\u001B[43mfunction_call\u001B[49m\u001B[43m,\u001B[49m\n\u001B[1;32m    606\u001B[0m \u001B[43m                \u001B[49m\u001B[38;5;124;43m\"\u001B[39;49m\u001B[38;5;124;43mfunctions\u001B[39;49m\u001B[38;5;124;43m\"\u001B[39;49m\u001B[43m:\u001B[49m\u001B[43m \u001B[49m\u001B[43mfunctions\u001B[49m\u001B[43m,\u001B[49m\n\u001B[1;32m    607\u001B[0m \u001B[43m                \u001B[49m\u001B[38;5;124;43m\"\u001B[39;49m\u001B[38;5;124;43mlogit_bias\u001B[39;49m\u001B[38;5;124;43m\"\u001B[39;49m\u001B[43m:\u001B[49m\u001B[43m \u001B[49m\u001B[43mlogit_bias\u001B[49m\u001B[43m,\u001B[49m\n\u001B[1;32m    608\u001B[0m \u001B[43m                \u001B[49m\u001B[38;5;124;43m\"\u001B[39;49m\u001B[38;5;124;43mmax_tokens\u001B[39;49m\u001B[38;5;124;43m\"\u001B[39;49m\u001B[43m:\u001B[49m\u001B[43m \u001B[49m\u001B[43mmax_tokens\u001B[49m\u001B[43m,\u001B[49m\n\u001B[1;32m    609\u001B[0m \u001B[43m                \u001B[49m\u001B[38;5;124;43m\"\u001B[39;49m\u001B[38;5;124;43mn\u001B[39;49m\u001B[38;5;124;43m\"\u001B[39;49m\u001B[43m:\u001B[49m\u001B[43m \u001B[49m\u001B[43mn\u001B[49m\u001B[43m,\u001B[49m\n\u001B[1;32m    610\u001B[0m \u001B[43m                \u001B[49m\u001B[38;5;124;43m\"\u001B[39;49m\u001B[38;5;124;43mpresence_penalty\u001B[39;49m\u001B[38;5;124;43m\"\u001B[39;49m\u001B[43m:\u001B[49m\u001B[43m \u001B[49m\u001B[43mpresence_penalty\u001B[49m\u001B[43m,\u001B[49m\n\u001B[1;32m    611\u001B[0m \u001B[43m                \u001B[49m\u001B[38;5;124;43m\"\u001B[39;49m\u001B[38;5;124;43mresponse_format\u001B[39;49m\u001B[38;5;124;43m\"\u001B[39;49m\u001B[43m:\u001B[49m\u001B[43m \u001B[49m\u001B[43mresponse_format\u001B[49m\u001B[43m,\u001B[49m\n\u001B[1;32m    612\u001B[0m \u001B[43m                \u001B[49m\u001B[38;5;124;43m\"\u001B[39;49m\u001B[38;5;124;43mseed\u001B[39;49m\u001B[38;5;124;43m\"\u001B[39;49m\u001B[43m:\u001B[49m\u001B[43m \u001B[49m\u001B[43mseed\u001B[49m\u001B[43m,\u001B[49m\n\u001B[1;32m    613\u001B[0m \u001B[43m                \u001B[49m\u001B[38;5;124;43m\"\u001B[39;49m\u001B[38;5;124;43mstop\u001B[39;49m\u001B[38;5;124;43m\"\u001B[39;49m\u001B[43m:\u001B[49m\u001B[43m \u001B[49m\u001B[43mstop\u001B[49m\u001B[43m,\u001B[49m\n\u001B[1;32m    614\u001B[0m \u001B[43m                \u001B[49m\u001B[38;5;124;43m\"\u001B[39;49m\u001B[38;5;124;43mstream\u001B[39;49m\u001B[38;5;124;43m\"\u001B[39;49m\u001B[43m:\u001B[49m\u001B[43m \u001B[49m\u001B[43mstream\u001B[49m\u001B[43m,\u001B[49m\n\u001B[1;32m    615\u001B[0m \u001B[43m                \u001B[49m\u001B[38;5;124;43m\"\u001B[39;49m\u001B[38;5;124;43mtemperature\u001B[39;49m\u001B[38;5;124;43m\"\u001B[39;49m\u001B[43m:\u001B[49m\u001B[43m \u001B[49m\u001B[43mtemperature\u001B[49m\u001B[43m,\u001B[49m\n\u001B[1;32m    616\u001B[0m \u001B[43m                \u001B[49m\u001B[38;5;124;43m\"\u001B[39;49m\u001B[38;5;124;43mtool_choice\u001B[39;49m\u001B[38;5;124;43m\"\u001B[39;49m\u001B[43m:\u001B[49m\u001B[43m \u001B[49m\u001B[43mtool_choice\u001B[49m\u001B[43m,\u001B[49m\n\u001B[1;32m    617\u001B[0m \u001B[43m                \u001B[49m\u001B[38;5;124;43m\"\u001B[39;49m\u001B[38;5;124;43mtools\u001B[39;49m\u001B[38;5;124;43m\"\u001B[39;49m\u001B[43m:\u001B[49m\u001B[43m \u001B[49m\u001B[43mtools\u001B[49m\u001B[43m,\u001B[49m\n\u001B[1;32m    618\u001B[0m \u001B[43m                \u001B[49m\u001B[38;5;124;43m\"\u001B[39;49m\u001B[38;5;124;43mtop_p\u001B[39;49m\u001B[38;5;124;43m\"\u001B[39;49m\u001B[43m:\u001B[49m\u001B[43m \u001B[49m\u001B[43mtop_p\u001B[49m\u001B[43m,\u001B[49m\n\u001B[1;32m    619\u001B[0m \u001B[43m                \u001B[49m\u001B[38;5;124;43m\"\u001B[39;49m\u001B[38;5;124;43muser\u001B[39;49m\u001B[38;5;124;43m\"\u001B[39;49m\u001B[43m:\u001B[49m\u001B[43m \u001B[49m\u001B[43muser\u001B[49m\u001B[43m,\u001B[49m\n\u001B[1;32m    620\u001B[0m \u001B[43m            \u001B[49m\u001B[43m}\u001B[49m\u001B[43m,\u001B[49m\n\u001B[1;32m    621\u001B[0m \u001B[43m            \u001B[49m\u001B[43mcompletion_create_params\u001B[49m\u001B[38;5;241;43m.\u001B[39;49m\u001B[43mCompletionCreateParams\u001B[49m\u001B[43m,\u001B[49m\n\u001B[1;32m    622\u001B[0m \u001B[43m        \u001B[49m\u001B[43m)\u001B[49m\u001B[43m,\u001B[49m\n\u001B[1;32m    623\u001B[0m \u001B[43m        \u001B[49m\u001B[43moptions\u001B[49m\u001B[38;5;241;43m=\u001B[39;49m\u001B[43mmake_request_options\u001B[49m\u001B[43m(\u001B[49m\n\u001B[1;32m    624\u001B[0m \u001B[43m            \u001B[49m\u001B[43mextra_headers\u001B[49m\u001B[38;5;241;43m=\u001B[39;49m\u001B[43mextra_headers\u001B[49m\u001B[43m,\u001B[49m\u001B[43m \u001B[49m\u001B[43mextra_query\u001B[49m\u001B[38;5;241;43m=\u001B[39;49m\u001B[43mextra_query\u001B[49m\u001B[43m,\u001B[49m\u001B[43m \u001B[49m\u001B[43mextra_body\u001B[49m\u001B[38;5;241;43m=\u001B[39;49m\u001B[43mextra_body\u001B[49m\u001B[43m,\u001B[49m\u001B[43m \u001B[49m\u001B[43mtimeout\u001B[49m\u001B[38;5;241;43m=\u001B[39;49m\u001B[43mtimeout\u001B[49m\n\u001B[1;32m    625\u001B[0m \u001B[43m        \u001B[49m\u001B[43m)\u001B[49m\u001B[43m,\u001B[49m\n\u001B[1;32m    626\u001B[0m \u001B[43m        \u001B[49m\u001B[43mcast_to\u001B[49m\u001B[38;5;241;43m=\u001B[39;49m\u001B[43mChatCompletion\u001B[49m\u001B[43m,\u001B[49m\n\u001B[1;32m    627\u001B[0m \u001B[43m        \u001B[49m\u001B[43mstream\u001B[49m\u001B[38;5;241;43m=\u001B[39;49m\u001B[43mstream\u001B[49m\u001B[43m \u001B[49m\u001B[38;5;129;43;01mor\u001B[39;49;00m\u001B[43m \u001B[49m\u001B[38;5;28;43;01mFalse\u001B[39;49;00m\u001B[43m,\u001B[49m\n\u001B[1;32m    628\u001B[0m \u001B[43m        \u001B[49m\u001B[43mstream_cls\u001B[49m\u001B[38;5;241;43m=\u001B[39;49m\u001B[43mStream\u001B[49m\u001B[43m[\u001B[49m\u001B[43mChatCompletionChunk\u001B[49m\u001B[43m]\u001B[49m\u001B[43m,\u001B[49m\n\u001B[1;32m    629\u001B[0m \u001B[43m    \u001B[49m\u001B[43m)\u001B[49m\n",
      "File \u001B[0;32m~/opt/miniconda3/envs/env_sparklab/lib/python3.10/site-packages/openai/_base_client.py:1096\u001B[0m, in \u001B[0;36mSyncAPIClient.post\u001B[0;34m(self, path, cast_to, body, options, files, stream, stream_cls)\u001B[0m\n\u001B[1;32m   1082\u001B[0m \u001B[38;5;28;01mdef\u001B[39;00m \u001B[38;5;21mpost\u001B[39m(\n\u001B[1;32m   1083\u001B[0m     \u001B[38;5;28mself\u001B[39m,\n\u001B[1;32m   1084\u001B[0m     path: \u001B[38;5;28mstr\u001B[39m,\n\u001B[0;32m   (...)\u001B[0m\n\u001B[1;32m   1091\u001B[0m     stream_cls: \u001B[38;5;28mtype\u001B[39m[_StreamT] \u001B[38;5;241m|\u001B[39m \u001B[38;5;28;01mNone\u001B[39;00m \u001B[38;5;241m=\u001B[39m \u001B[38;5;28;01mNone\u001B[39;00m,\n\u001B[1;32m   1092\u001B[0m ) \u001B[38;5;241m-\u001B[39m\u001B[38;5;241m>\u001B[39m ResponseT \u001B[38;5;241m|\u001B[39m _StreamT:\n\u001B[1;32m   1093\u001B[0m     opts \u001B[38;5;241m=\u001B[39m FinalRequestOptions\u001B[38;5;241m.\u001B[39mconstruct(\n\u001B[1;32m   1094\u001B[0m         method\u001B[38;5;241m=\u001B[39m\u001B[38;5;124m\"\u001B[39m\u001B[38;5;124mpost\u001B[39m\u001B[38;5;124m\"\u001B[39m, url\u001B[38;5;241m=\u001B[39mpath, json_data\u001B[38;5;241m=\u001B[39mbody, files\u001B[38;5;241m=\u001B[39mto_httpx_files(files), \u001B[38;5;241m*\u001B[39m\u001B[38;5;241m*\u001B[39moptions\n\u001B[1;32m   1095\u001B[0m     )\n\u001B[0;32m-> 1096\u001B[0m     \u001B[38;5;28;01mreturn\u001B[39;00m cast(ResponseT, \u001B[38;5;28;43mself\u001B[39;49m\u001B[38;5;241;43m.\u001B[39;49m\u001B[43mrequest\u001B[49m\u001B[43m(\u001B[49m\u001B[43mcast_to\u001B[49m\u001B[43m,\u001B[49m\u001B[43m \u001B[49m\u001B[43mopts\u001B[49m\u001B[43m,\u001B[49m\u001B[43m \u001B[49m\u001B[43mstream\u001B[49m\u001B[38;5;241;43m=\u001B[39;49m\u001B[43mstream\u001B[49m\u001B[43m,\u001B[49m\u001B[43m \u001B[49m\u001B[43mstream_cls\u001B[49m\u001B[38;5;241;43m=\u001B[39;49m\u001B[43mstream_cls\u001B[49m\u001B[43m)\u001B[49m)\n",
      "File \u001B[0;32m~/opt/miniconda3/envs/env_sparklab/lib/python3.10/site-packages/openai/_base_client.py:856\u001B[0m, in \u001B[0;36mSyncAPIClient.request\u001B[0;34m(self, cast_to, options, remaining_retries, stream, stream_cls)\u001B[0m\n\u001B[1;32m    847\u001B[0m \u001B[38;5;28;01mdef\u001B[39;00m \u001B[38;5;21mrequest\u001B[39m(\n\u001B[1;32m    848\u001B[0m     \u001B[38;5;28mself\u001B[39m,\n\u001B[1;32m    849\u001B[0m     cast_to: Type[ResponseT],\n\u001B[0;32m   (...)\u001B[0m\n\u001B[1;32m    854\u001B[0m     stream_cls: \u001B[38;5;28mtype\u001B[39m[_StreamT] \u001B[38;5;241m|\u001B[39m \u001B[38;5;28;01mNone\u001B[39;00m \u001B[38;5;241m=\u001B[39m \u001B[38;5;28;01mNone\u001B[39;00m,\n\u001B[1;32m    855\u001B[0m ) \u001B[38;5;241m-\u001B[39m\u001B[38;5;241m>\u001B[39m ResponseT \u001B[38;5;241m|\u001B[39m _StreamT:\n\u001B[0;32m--> 856\u001B[0m     \u001B[38;5;28;01mreturn\u001B[39;00m \u001B[38;5;28;43mself\u001B[39;49m\u001B[38;5;241;43m.\u001B[39;49m\u001B[43m_request\u001B[49m\u001B[43m(\u001B[49m\n\u001B[1;32m    857\u001B[0m \u001B[43m        \u001B[49m\u001B[43mcast_to\u001B[49m\u001B[38;5;241;43m=\u001B[39;49m\u001B[43mcast_to\u001B[49m\u001B[43m,\u001B[49m\n\u001B[1;32m    858\u001B[0m \u001B[43m        \u001B[49m\u001B[43moptions\u001B[49m\u001B[38;5;241;43m=\u001B[39;49m\u001B[43moptions\u001B[49m\u001B[43m,\u001B[49m\n\u001B[1;32m    859\u001B[0m \u001B[43m        \u001B[49m\u001B[43mstream\u001B[49m\u001B[38;5;241;43m=\u001B[39;49m\u001B[43mstream\u001B[49m\u001B[43m,\u001B[49m\n\u001B[1;32m    860\u001B[0m \u001B[43m        \u001B[49m\u001B[43mstream_cls\u001B[49m\u001B[38;5;241;43m=\u001B[39;49m\u001B[43mstream_cls\u001B[49m\u001B[43m,\u001B[49m\n\u001B[1;32m    861\u001B[0m \u001B[43m        \u001B[49m\u001B[43mremaining_retries\u001B[49m\u001B[38;5;241;43m=\u001B[39;49m\u001B[43mremaining_retries\u001B[49m\u001B[43m,\u001B[49m\n\u001B[1;32m    862\u001B[0m \u001B[43m    \u001B[49m\u001B[43m)\u001B[49m\n",
      "File \u001B[0;32m~/opt/miniconda3/envs/env_sparklab/lib/python3.10/site-packages/openai/_base_client.py:908\u001B[0m, in \u001B[0;36mSyncAPIClient._request\u001B[0;34m(self, cast_to, options, remaining_retries, stream, stream_cls)\u001B[0m\n\u001B[1;32m    905\u001B[0m     \u001B[38;5;28;01mif\u001B[39;00m \u001B[38;5;129;01mnot\u001B[39;00m err\u001B[38;5;241m.\u001B[39mresponse\u001B[38;5;241m.\u001B[39mis_closed:\n\u001B[1;32m    906\u001B[0m         err\u001B[38;5;241m.\u001B[39mresponse\u001B[38;5;241m.\u001B[39mread()\n\u001B[0;32m--> 908\u001B[0m     \u001B[38;5;28;01mraise\u001B[39;00m \u001B[38;5;28mself\u001B[39m\u001B[38;5;241m.\u001B[39m_make_status_error_from_response(err\u001B[38;5;241m.\u001B[39mresponse) \u001B[38;5;28;01mfrom\u001B[39;00m \u001B[38;5;28mNone\u001B[39m\n\u001B[1;32m    909\u001B[0m \u001B[38;5;28;01mexcept\u001B[39;00m httpx\u001B[38;5;241m.\u001B[39mTimeoutException \u001B[38;5;28;01mas\u001B[39;00m err:\n\u001B[1;32m    910\u001B[0m     \u001B[38;5;28;01mif\u001B[39;00m response \u001B[38;5;129;01mis\u001B[39;00m \u001B[38;5;129;01mnot\u001B[39;00m \u001B[38;5;28;01mNone\u001B[39;00m:\n",
      "\u001B[0;31mAuthenticationError\u001B[0m: Error code: 401 - {'error': {'message': 'Incorrect API key provided: sk-TRsdN***************************************lbPZ. You can find your API key at https://platform.openai.com/account/api-keys.', 'type': 'invalid_request_error', 'param': None, 'code': 'invalid_api_key'}}"
     ]
    }
   ],
   "source": [
    "# Generation of the post according to the role of context, and the main prompt from user. Below this section I created responses on each category, that initialized above, now I'm just iterating the whole list with data, and appending responses to the list. \n",
    "\n",
    "generated_posts = [] # list of generated posts\n",
    "\n",
    "for record in houses_for_post:\n",
    "    completion = client.chat.completions.create(\n",
    "        model=\"gpt-3.5-turbo\",\n",
    "        messages=[\n",
    "            {\"role\": \"system\", \"content\": \"You are the real estate agent who manage own instagram account for promoting houses to acquiring.\"},\n",
    "            {\"role\": \"user\", \"content\": f\"Your mission is to make a positive and quote-provoking post, describing each data point about house. Moreover, you need enhance your post with unique approach in marketing or selling. Here are the data:\\n{record}\\nGenerate a response:\"}\n",
    "        ]\n",
    "    )\n",
    "    generated_posts.append(completion.choices[0].message.content) # appending responses to list of generated posts"
   ]
  },
  {
   "cell_type": "code",
   "execution_count": null,
   "id": "748d7013-a2b3-4c25-b67e-736bcabaa307",
   "metadata": {
    "ExecuteTime": {
     "end_time": "2023-12-04T17:38:13.102276Z",
     "start_time": "2023-12-04T17:38:13.092951Z"
    }
   },
   "outputs": [],
   "source": [
    "# # Generation of the post according to the role of context, and the main prompt from user.\n",
    "# \n",
    "# \n",
    "# completion = client.chat.completions.create(\n",
    "#   model=\"gpt-3.5-turbo\",\n",
    "#    messages=[\n",
    "#     {\"role\": \"system\", \"content\": \"You are the real estate agent who manage own instagram account for promoting houses to acquiring.\"},\n",
    "#     {\"role\": \"user\", \"content\": prompt_moderate_houses}\n",
    "#   ]\n",
    "# )\n",
    "# \n",
    "# generated_post_moderate_houses = completion.choices[0].message.content"
   ]
  },
  {
   "cell_type": "code",
   "execution_count": null,
   "id": "6e97adba-c8d3-4522-b437-62c098de9f1d",
   "metadata": {
    "ExecuteTime": {
     "start_time": "2023-12-04T17:38:13.095816Z"
    }
   },
   "outputs": [],
   "source": [
    "# Generation of the post according to the role of context, and the main prompt from user.\n",
    "\n",
    "# completion = client.chat.completions.create(\n",
    "#   model=\"gpt-3.5-turbo\",\n",
    "#    messages=[\n",
    "#     {\"role\": \"system\", \"content\": \"You are the real estate agent who manage own instagram account for promoting houses to acquiring.\"},\n",
    "#     {\"role\": \"user\", \"content\": prompt_aboveAverage_houses}\n",
    "#   ]\n",
    "# )\n",
    "# \n",
    "# generated_post_aboveAverage_houses = completion.choices[0].message.content"
   ]
  },
  {
   "cell_type": "code",
   "execution_count": null,
   "id": "f94a18de-edec-4279-b508-6a30b24e7e49",
   "metadata": {
    "ExecuteTime": {
     "start_time": "2023-12-04T17:38:13.099612Z"
    }
   },
   "outputs": [],
   "source": [
    "# Generation of the post according to the role of context, and the main prompt from user.\n",
    "\n",
    "# completion = client.chat.completions.create(\n",
    "#   model=\"gpt-3.5-turbo\",\n",
    "#    messages=[\n",
    "#     {\"role\": \"system\", \"content\": \"You are the real estate agent who manage own instagram account for promoting houses to acquiring.\"},\n",
    "#     {\"role\": \"user\", \"content\": prompt_highEnd_houses}\n",
    "#   ]\n",
    "# )\n",
    "# \n",
    "# generated_post_highEnd_houses = completion.choices[0].message.content"
   ]
  },
  {
   "cell_type": "code",
   "execution_count": null,
   "id": "80a07f39-f24e-4cf0-a7f6-cf32d727a750",
   "metadata": {
    "ExecuteTime": {
     "end_time": "2023-12-04T17:38:13.102907Z",
     "start_time": "2023-12-04T17:38:13.102591Z"
    }
   },
   "outputs": [],
   "source": [
    "# Generation of the post according to the role of context, and the main prompt from user.\n",
    "\n",
    "# completion = client.chat.completions.create(\n",
    "#   model=\"gpt-3.5-turbo\",\n",
    "#    messages=[\n",
    "#     {\"role\": \"system\", \"content\": \"You are the real estate agent who manage own instagram account for promoting houses to acquiring.\"},\n",
    "#     {\"role\": \"user\", \"content\": prompt_luxury_houses1}\n",
    "#   ]\n",
    "# )\n",
    "# \n",
    "# generated_post_luxury_houses1 = completion.choices[0].message.content"
   ]
  },
  {
   "cell_type": "code",
   "execution_count": null,
   "id": "d6b7f617-d756-4408-b8cb-4dd6912fef22",
   "metadata": {
    "ExecuteTime": {
     "start_time": "2023-12-04T17:38:13.105495Z"
    }
   },
   "outputs": [],
   "source": [
    "# Generation of the post according to the role of context, and the main prompt from user.\n",
    "\n",
    "# completion = client.chat.completions.create(\n",
    "#   model=\"gpt-3.5-turbo\",\n",
    "#    messages=[\n",
    "#     {\"role\": \"system\", \"content\": \"You are the real estate agent who manage own instagram account for promoting houses to acquiring.\"},\n",
    "#     {\"role\": \"user\", \"content\": prompt_luxury_houses2}\n",
    "#   ]\n",
    "# )\n",
    "# \n",
    "# generated_post_luxury_houses2 = completion.choices[0].message.content"
   ]
  },
  {
   "cell_type": "code",
   "execution_count": null,
   "id": "ba29ad49-09de-4a74-a040-be5e8eea9103",
   "metadata": {
    "ExecuteTime": {
     "start_time": "2023-12-04T17:38:13.107054Z"
    }
   },
   "outputs": [],
   "source": [
    "# This part of code, exists for generating md file with results\n",
    "\n",
    "markdown_content = \"\"\"# My Markdown File\n",
    "\n",
    "This is some text in my Markdown file. You can include various formatting options such as:\n",
    "\n",
    "- Lists\n",
    "- *Italic text*\n",
    "- **Bold text**\n",
    "- [Links](https://www.example.com)\n",
    "\"\"\"\n",
    "\n",
    "file_path = \"example.md\"\n",
    "\n",
    "# There is generation with divider - '-----'.\n",
    "\n",
    "for post in generated_posts:\n",
    "    with open(file_path, \"w\", encoding=\"utf-8\") as file:\n",
    "        file.write(str(post) + \"\\n---\\n\")\n",
    "    \n",
    "\n",
    "print(f\"Markdown file '{file_path}' has been generated.\")"
   ]
  },
  {
   "cell_type": "code",
   "execution_count": null,
   "id": "d4c2a3c0-ef2f-44a5-bd6d-4499ce427159",
   "metadata": {
    "ExecuteTime": {
     "start_time": "2023-12-04T17:38:13.108233Z"
    }
   },
   "outputs": [],
   "source": [
    "# Converting md to txt. \n",
    "\n",
    "md_file_path = \"example.md\"\n",
    "txt_file_path = \"example.txt\"\n",
    "\n",
    "with open(md_file_path, \"r\", encoding=\"utf-8\") as md_file:\n",
    "    markdown_content = md_file.read()\n",
    "\n",
    "with open(txt_file_path, \"w\", encoding=\"utf-8\") as txt_file:\n",
    "    txt_file.write(markdown_content)\n",
    "\n",
    "print(f\"Markdown file '{md_file_path}' has been converted to text file '{txt_file_path}'.\")"
   ]
  }
 ],
 "metadata": {
  "kernelspec": {
   "display_name": "Python 3 (ipykernel)",
   "language": "python",
   "name": "python3"
  },
  "language_info": {
   "codemirror_mode": {
    "name": "ipython",
    "version": 3
   },
   "file_extension": ".py",
   "mimetype": "text/x-python",
   "name": "python",
   "nbconvert_exporter": "python",
   "pygments_lexer": "ipython3",
   "version": "3.12.0"
  }
 },
 "nbformat": 4,
 "nbformat_minor": 5
}
