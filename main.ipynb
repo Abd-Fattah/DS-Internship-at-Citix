{
 "cells": [
  {
   "cell_type": "code",
   "execution_count": 227,
   "id": "0fcc44c0-7975-46a6-8d53-aefe1020413f",
   "metadata": {},
   "outputs": [],
   "source": [
    "import pandas as pd\n",
    "from openai import OpenAI\n",
    "import openai\n",
    "import os"
   ]
  },
  {
   "cell_type": "code",
   "execution_count": 228,
   "id": "ce2cc58a-0042-4591-a474-964dbb27e6fd",
   "metadata": {},
   "outputs": [],
   "source": [
    "dataset_path = 'Housing.csv'\n",
    "client = OpenAI()"
   ]
  },
  {
   "cell_type": "code",
   "execution_count": 229,
   "id": "aace9b5f-1f21-465e-8fae-2163c1ce17fd",
   "metadata": {},
   "outputs": [],
   "source": [
    "# Initialize the dataframe through the dataset.\n",
    "\n",
    "df = pd.read_csv(dataset_path)\n",
    "\n",
    "houses = []\n",
    "\n",
    "# Convert the whole dataframe into array of dictionaries. Where each record is the dictionary. \n",
    "\n",
    "houses = df.to_dict(orient='records')"
   ]
  },
  {
   "cell_type": "code",
   "execution_count": 230,
   "id": "e210f490-c975-46ee-8ad2-b3db8916b455",
   "metadata": {},
   "outputs": [],
   "source": [
    "# Dividing records into categories that will be used further for prompt construction.\n",
    "\n",
    "affordable_houses = [record for record in houses if 0 <= record.get(\"price\", 0) <= 2000000]\n",
    "moderate_houses = [record for record in houses if 2000000 <= record.get(\"price\", 0) <= 4000000]\n",
    "aboveAverage_houses = [record for record in houses if 4000000 <= record.get(\"price\", 0) <= 6000000]\n",
    "highEnd_houses = [record for record in houses if 6000000 <= record.get(\"price\", 0) <= 8000000]\n",
    "luxury_houses = [record for record in houses if 8000000 <= record.get(\"price\", 0) <= 10000000]\n",
    "premiumLuxury_houses = [record for record in houses if 10000000 <= record.get(\"price\", 0) <= 12000000]"
   ]
  },
  {
   "cell_type": "code",
   "execution_count": 231,
   "id": "f35e0877-5a7b-40a2-88fb-3b2f1a1015c1",
   "metadata": {},
   "outputs": [],
   "source": [
    "houses_for_post = [] # Array of houses that will be used to generate posts.\n",
    "\n",
    "# Applying filtering with specific feature.\n",
    "for record in affordable_houses:\n",
    "    if record['mainroad'] == 'yes' and record['area'] >= 3000 and record['bedrooms'] >= 3:\n",
    "        if (record['bedrooms'] >= 3):\n",
    "            filtered_record = {'affordable_houses': record}\n",
    "            houses_for_post.append(filtered_record)\n",
    "\n",
    "# Applying filtering with specific feature.\n",
    "for record in moderate_houses:\n",
    "    if record['mainroad'] == 'yes' and record['area'] >= 3000 and record['bedrooms'] >= 3:\n",
    "        if record['basement'] == 'yes' and record['airconditioning'] == 'yes' and record['guestroom'] == 'yes':\n",
    "            filtered_record = {'moderate_houses': record}\n",
    "            houses_for_post.append(filtered_record)\n",
    "\n",
    "# Applying filtering with specific feature.\n",
    "for record in aboveAverage_houses:\n",
    "    if record['mainroad'] == 'yes' and record['area'] >= 3000 and record['bedrooms'] >= 3:\n",
    "        if record['basement'] == 'yes' and record['airconditioning'] == 'yes' and record['guestroom'] == 'yes':\n",
    "            if record['furnishingstatus'] == 'furnished' and record['parking'] >= 1 and record['prefarea'] == 'yes':\n",
    "                    filtered_record = {'aboveAverage_houses': record}\n",
    "                    houses_for_post.append(filtered_record)\n",
    "\n",
    "# Applying filtering with specific feature.\n",
    "for record in highEnd_houses:\n",
    "    if record['mainroad'] == 'yes' and record['area'] >= 3000 and record['bedrooms'] >= 3:\n",
    "        if record['basement'] == 'yes' and record['airconditioning'] == 'yes' and record['guestroom'] == 'yes':\n",
    "            if record['furnishingstatus'] == 'furnished' and record['parking'] >= 1 and record['prefarea'] == 'yes':\n",
    "                    filtered_record = {'highEnd_houses': record}\n",
    "                    houses_for_post.append(filtered_record)\n",
    "\n",
    "# Applying filtering with specific feature.\n",
    "for record in luxury_houses:\n",
    "    if record['mainroad'] == 'yes' and record['area'] >= 3000 and record['bedrooms'] >= 3:\n",
    "        if record['basement'] == 'yes' and record['airconditioning'] == 'yes' and record['guestroom'] == 'yes':\n",
    "            if record['furnishingstatus'] == 'furnished' and record['parking'] >= 1 and record['prefarea'] == 'yes':\n",
    "                    filtered_record = {'luxury_houses': record}\n",
    "                    houses_for_post.append(filtered_record)\n",
    "\n",
    "# Applying filtering with specific feature.\n",
    "for record in premiumLuxury_houses:\n",
    "    if record['mainroad'] == 'yes' and record['area'] >= 3000 and record['bedrooms'] >= 3:\n",
    "        if record['basement'] == 'yes' and record['airconditioning'] == 'yes' and record['guestroom'] == 'yes':\n",
    "            if record['furnishingstatus'] == 'furnished' and record['parking'] >= 1 and record['prefarea'] == 'yes':\n",
    "                    filtered_record = {'premiumLuxury_houses': record}\n",
    "                    houses_for_post.append(filtered_record)"
   ]
  },
  {
   "cell_type": "code",
   "execution_count": 232,
   "id": "582d95e2-832c-4dac-bc31-0bb39affa0e1",
   "metadata": {},
   "outputs": [],
   "source": [
    "# Again dividing the data about filtered houses by specific features to the variable data context.\n",
    "affordable_houses_data = houses_for_post[0].get('affordable_houses')\n",
    "moderate_houses_data = houses_for_post[1].get('moderate_houses')\n",
    "aboveAverage_houses_data = houses_for_post[2].get('aboveAverage_houses')\n",
    "highEnd_houses_data = houses_for_post[3].get('highEnd_houses')\n",
    "luxury_houses_data1 = houses_for_post[4].get('luxury_houses')\n",
    "luxury_houses_data2 = houses_for_post[5].get('luxury_houses')\n",
    "\n",
    "#Prompts that used in generating posts.\n",
    "\n",
    "prompt_affordable_houses = f\"Your mission is to make a positive and quote-provoking post, describing each data point about house. Moreover, you need enhance your post with unique approach in marketing or selling. Here are the data:\\n{affordable_houses_data}\\nGenerate a response:\"\n",
    "prompt_moderate_houses = f\"Your mission is to make a positive and quote-provoking post, describing each data point about house. Moreover, you need enhance your post with unique approach in marketing or selling. Here are the data:\\n{moderate_houses_data}\\nGenerate a response:\"\n",
    "prompt_aboveAverage_houses = f\"Your mission is to make a positive and quote-provoking post, describing each data point about house. Moreover, you need enhance your post with unique approach in marketing or selling. Here are the data:\\n{aboveAverage_houses_data}\\nGenerate a response:\"\n",
    "prompt_highEnd_houses = f\"Your mission is to make a positive and quote-provoking post, describing each data point about house. Moreover, you need enhance your post with unique approach in marketing or selling. Here are the data:\\n{highEnd_houses_data}\\nGenerate a response:\"\n",
    "prompt_luxury_houses1 = f\"Your mission is to make a positive and quote-provoking post, describing each data point about house. Moreover, you need enhance your post with unique approach in marketing or selling. Here are the data:\\n{luxury_houses_data1}\\nGenerate a response:\"\n",
    "prompt_luxury_houses2 = f\"Your mission is to make a positive and quote-provoking post, describing each data point about house. Moreover, you need enhance your post with unique approach in marketing or selling. Here are the data:\\n{luxury_houses_data2}\\nGenerate a response:\""
   ]
  },
  {
   "cell_type": "code",
   "execution_count": 257,
   "id": "46e2ab5b-d865-4512-8501-0f4fc9a8eddc",
   "metadata": {},
   "outputs": [],
   "source": [
    "# Generation of the post according to the role of context, and the main prompt from user.\n",
    "\n",
    "completion = client.chat.completions.create(\n",
    "  model=\"gpt-3.5-turbo\",\n",
    "   messages=[\n",
    "    {\"role\": \"system\", \"content\": \"You are the real estate agent who manage own instagram account for promoting houses to acquiring.\"},\n",
    "    {\"role\": \"user\", \"content\": prompt_affordable_houses}\n",
    "  ]\n",
    ")\n",
    "\n",
    "generated_post_affordable_houses = completion.choices[0].message.content"
   ]
  },
  {
   "cell_type": "code",
   "execution_count": 258,
   "id": "748d7013-a2b3-4c25-b67e-736bcabaa307",
   "metadata": {},
   "outputs": [],
   "source": [
    "# Generation of the post according to the role of context, and the main prompt from user.\n",
    "\n",
    "\n",
    "completion = client.chat.completions.create(\n",
    "  model=\"gpt-3.5-turbo\",\n",
    "   messages=[\n",
    "    {\"role\": \"system\", \"content\": \"You are the real estate agent who manage own instagram account for promoting houses to acquiring.\"},\n",
    "    {\"role\": \"user\", \"content\": prompt_moderate_houses}\n",
    "  ]\n",
    ")\n",
    "\n",
    "generated_post_moderate_houses = completion.choices[0].message.content"
   ]
  },
  {
   "cell_type": "code",
   "execution_count": 259,
   "id": "6e97adba-c8d3-4522-b437-62c098de9f1d",
   "metadata": {},
   "outputs": [],
   "source": [
    "# Generation of the post according to the role of context, and the main prompt from user.\n",
    "\n",
    "completion = client.chat.completions.create(\n",
    "  model=\"gpt-3.5-turbo\",\n",
    "   messages=[\n",
    "    {\"role\": \"system\", \"content\": \"You are the real estate agent who manage own instagram account for promoting houses to acquiring.\"},\n",
    "    {\"role\": \"user\", \"content\": prompt_aboveAverage_houses}\n",
    "  ]\n",
    ")\n",
    "\n",
    "generated_post_aboveAverage_houses = completion.choices[0].message.content"
   ]
  },
  {
   "cell_type": "code",
   "execution_count": 260,
   "id": "f94a18de-edec-4279-b508-6a30b24e7e49",
   "metadata": {},
   "outputs": [],
   "source": [
    "# Generation of the post according to the role of context, and the main prompt from user.\n",
    "\n",
    "completion = client.chat.completions.create(\n",
    "  model=\"gpt-3.5-turbo\",\n",
    "   messages=[\n",
    "    {\"role\": \"system\", \"content\": \"You are the real estate agent who manage own instagram account for promoting houses to acquiring.\"},\n",
    "    {\"role\": \"user\", \"content\": prompt_highEnd_houses}\n",
    "  ]\n",
    ")\n",
    "\n",
    "generated_post_highEnd_houses = completion.choices[0].message.content"
   ]
  },
  {
   "cell_type": "code",
   "execution_count": 261,
   "id": "80a07f39-f24e-4cf0-a7f6-cf32d727a750",
   "metadata": {},
   "outputs": [],
   "source": [
    "# Generation of the post according to the role of context, and the main prompt from user.\n",
    "\n",
    "completion = client.chat.completions.create(\n",
    "  model=\"gpt-3.5-turbo\",\n",
    "   messages=[\n",
    "    {\"role\": \"system\", \"content\": \"You are the real estate agent who manage own instagram account for promoting houses to acquiring.\"},\n",
    "    {\"role\": \"user\", \"content\": prompt_luxury_houses1}\n",
    "  ]\n",
    ")\n",
    "\n",
    "generated_post_luxury_houses1 = completion.choices[0].message.content"
   ]
  },
  {
   "cell_type": "code",
   "execution_count": 254,
   "id": "d6b7f617-d756-4408-b8cb-4dd6912fef22",
   "metadata": {},
   "outputs": [],
   "source": [
    "# Generation of the post according to the role of context, and the main prompt from user.\n",
    "\n",
    "completion = client.chat.completions.create(\n",
    "  model=\"gpt-3.5-turbo\",\n",
    "   messages=[\n",
    "    {\"role\": \"system\", \"content\": \"You are the real estate agent who manage own instagram account for promoting houses to acquiring.\"},\n",
    "    {\"role\": \"user\", \"content\": prompt_luxury_houses2}\n",
    "  ]\n",
    ")\n",
    "\n",
    "generated_post_luxury_houses2 = completion.choices[0].message.content"
   ]
  },
  {
   "cell_type": "code",
   "execution_count": 264,
   "id": "ba29ad49-09de-4a74-a040-be5e8eea9103",
   "metadata": {},
   "outputs": [
    {
     "name": "stdout",
     "output_type": "stream",
     "text": [
      "Markdown file 'example.md' has been generated.\n"
     ]
    }
   ],
   "source": [
    "# This part of code, exists for generating md file with results\n",
    "\n",
    "markdown_content = \"\"\"# My Markdown File\n",
    "\n",
    "This is some text in my Markdown file. You can include various formatting options such as:\n",
    "\n",
    "- Lists\n",
    "- *Italic text*\n",
    "- **Bold text**\n",
    "- [Links](https://www.example.com)\n",
    "\"\"\"\n",
    "\n",
    "file_path = \"example.md\"\n",
    "\n",
    "# There is generation with divider - '-----'.\n",
    "\n",
    "with open(file_path, \"w\", encoding=\"utf-8\") as file:\n",
    "    file.write(str(generated_post_affordable_houses) + \"\\n---\\n\")\n",
    "    file.write(str(generated_post_moderate_houses) + \"\\n---\\n\")\n",
    "    file.write(str(generated_post_aboveAverage_houses) + \"\\n---\\n\")\n",
    "    file.write(str(generated_post_highEnd_houses) + \"\\n---\\n\")\n",
    "    file.write(str(generated_post_luxury_houses1) + \"\\n---\\n\")\n",
    "    file.write(str(generated_post_luxury_houses2) + \"\\n---\\n\")\n",
    "\n",
    "print(f\"Markdown file '{file_path}' has been generated.\")"
   ]
  },
  {
   "cell_type": "code",
   "execution_count": 265,
   "id": "d4c2a3c0-ef2f-44a5-bd6d-4499ce427159",
   "metadata": {},
   "outputs": [
    {
     "name": "stdout",
     "output_type": "stream",
     "text": [
      "Markdown file 'example.md' has been converted to text file 'example.txt'.\n"
     ]
    }
   ],
   "source": [
    "# Converting md to txt. \n",
    "\n",
    "md_file_path = \"example.md\"\n",
    "txt_file_path = \"example.txt\"\n",
    "\n",
    "with open(md_file_path, \"r\", encoding=\"utf-8\") as md_file:\n",
    "    markdown_content = md_file.read()\n",
    "\n",
    "with open(txt_file_path, \"w\", encoding=\"utf-8\") as txt_file:\n",
    "    txt_file.write(markdown_content)\n",
    "\n",
    "print(f\"Markdown file '{md_file_path}' has been converted to text file '{txt_file_path}'.\")"
   ]
  },
  {
   "cell_type": "code",
   "execution_count": null,
   "id": "b2a8a87e-bc85-4b25-8936-52f56012f0dc",
   "metadata": {},
   "outputs": [],
   "source": []
  }
 ],
 "metadata": {
  "kernelspec": {
   "display_name": "Python 3 (ipykernel)",
   "language": "python",
   "name": "python3"
  },
  "language_info": {
   "codemirror_mode": {
    "name": "ipython",
    "version": 3
   },
   "file_extension": ".py",
   "mimetype": "text/x-python",
   "name": "python",
   "nbconvert_exporter": "python",
   "pygments_lexer": "ipython3",
   "version": "3.12.0"
  }
 },
 "nbformat": 4,
 "nbformat_minor": 5
}
